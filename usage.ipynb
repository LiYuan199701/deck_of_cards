{
 "cells": [
  {
   "cell_type": "code",
   "execution_count": null,
   "id": "dd70d225-9d71-4e7e-ab87-a94991775e1e",
   "metadata": {},
   "outputs": [
    {
     "data": {
      "text/plain": [
       "Jack of Hearts"
      ]
     },
     "execution_count": null,
     "metadata": {},
     "output_type": "execute_result"
    }
   ],
   "source": [
    "from deck_of_cards.card import Card\n",
    "\n",
    "Card(2, 11)"
   ]
  },
  {
   "cell_type": "code",
   "execution_count": null,
   "id": "7fbfbb93-aeb5-4221-bd31-4376dfb0356f",
   "metadata": {},
   "outputs": [],
   "source": []
  }
 ],
 "metadata": {
  "kernelspec": {
   "display_name": "Python 3",
   "language": "python",
   "name": "python3"
  }
 },
 "nbformat": 4,
 "nbformat_minor": 5
}
